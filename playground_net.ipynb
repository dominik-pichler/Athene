{
 "cells": [
  {
   "cell_type": "code",
   "execution_count": 13,
   "metadata": {},
   "outputs": [],
   "source": [
    "import networkx as nx\n",
    "G = nx.Graph()\n",
    "\n",
    "## Add edges to the graph\n",
    "G.add_edge(\n",
    "    str(\"Business & Data understanding\"),\n",
    "    str(\"Data Preperation\"),\n",
    "    \n",
    "    title=\"Phase 1\",\n",
    "    weight=3)\n",
    "\n",
    "G.add_edge(\n",
    "    str(\"Data Preperation\"),\n",
    "    str(\"Modelling\"),\n",
    "    title=\"edge\",\n",
    "    weight=3)\n",
    "\n",
    "G.add_edge(\n",
    "    str(\"Modelling\"),\n",
    "    str(\"Evaluation\"),\n",
    "    title=\"edge\",\n",
    "    weight=3)\n",
    "\n",
    "G.add_edge(\n",
    "    str(\"Evaluation\"),\n",
    "    str(\"Deployment\"),\n",
    "    title=\"edge\",\n",
    "    weight=3)\n",
    "\n",
    "\n",
    "G.add_edge(\n",
    "    str(\"Deployment\"),\n",
    "    str(\"Monitoring & Maintenance\"),\n",
    "    title=\"edge\",\n",
    "    weight=3)\n"
   ]
  },
  {
   "cell_type": "code",
   "execution_count": null,
   "metadata": {},
   "outputs": [],
   "source": []
  },
  {
   "cell_type": "code",
   "execution_count": null,
   "metadata": {},
   "outputs": [],
   "source": []
  },
  {
   "cell_type": "code",
   "execution_count": 14,
   "metadata": {},
   "outputs": [],
   "source": [
    "from pyvis.network import Network\n",
    "\n",
    "graph_output_directory = \"./templates/index.html\"\n",
    "\n",
    "net = Network(\n",
    "    notebook=False,\n",
    "    # bgcolor=\"#1a1a1a\",\n",
    "    cdn_resources=\"remote\",\n",
    "    height=\"900px\",\n",
    "    width=\"100%\",\n",
    "    select_menu=True,\n",
    "    # font_color=\"#cccccc\",\n",
    "    filter_menu=False,\n",
    "    directed = True\n",
    ")\n",
    "\n",
    "net.from_nx(G)\n",
    "# net.repulsion(node_distance=150, spring_length=400)\n",
    "net.force_atlas_2based(central_gravity=0.015, gravity=-31)\n",
    "net.barnes_hut(gravity=-18100, central_gravity=5.05, spring_length=380)\n",
    "net.show_buttons(filter_=[\"physics\"])\n",
    "\n",
    "net.show(graph_output_directory) #notebook=False)"
   ]
  }
 ],
 "metadata": {
  "kernelspec": {
   "display_name": "knowledge-graph",
   "language": "python",
   "name": "python3"
  },
  "language_info": {
   "codemirror_mode": {
    "name": "ipython",
    "version": 3
   },
   "file_extension": ".py",
   "mimetype": "text/x-python",
   "name": "python",
   "nbconvert_exporter": "python",
   "pygments_lexer": "ipython3",
   "version": "3.11.7"
  }
 },
 "nbformat": 4,
 "nbformat_minor": 2
}
