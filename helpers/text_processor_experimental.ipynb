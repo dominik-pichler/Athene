{
 "cells": [
  {
   "cell_type": "code",
   "execution_count": 13,
   "metadata": {},
   "outputs": [],
   "source": [
    "import nltk\n",
    "from nltk.tokenize import word_tokenize\n",
    "from nltk.tag import pos_tag"
   ]
  },
  {
   "cell_type": "code",
   "execution_count": 73,
   "metadata": {},
   "outputs": [
    {
     "name": "stdout",
     "output_type": "stream",
     "text": [
      "\n",
      "\n",
      "\n",
      "At first, her government, under the administration of the _dogmatists_,\n",
      "was an absolute _despotism_.\n"
     ]
    }
   ],
   "source": [
    "file_path =  '../resources/raw_input_data/The_critique_of_pure_reason.txt'\n",
    "\n",
    "\n",
    "f = open(file_path,\"r\")\n",
    "text = f.read()\n",
    "sent_text = nltk.sent_tokenize(text) # this gives us a list of sentences"
   ]
  },
  {
   "cell_type": "code",
   "execution_count": 32,
   "metadata": {},
   "outputs": [],
   "source": [
    "def preprocess(sent):\n",
    "    sent = nltk.word_tokenize(sent)\n",
    "    sent = nltk.pos_tag(sent)\n",
    "    return sent"
   ]
  },
  {
   "cell_type": "code",
   "execution_count": 33,
   "metadata": {},
   "outputs": [
    {
     "data": {
      "text/plain": [
       "[('At', 'IN'),\n",
       " ('first', 'JJ'),\n",
       " (',', ','),\n",
       " ('her', 'PRP$'),\n",
       " ('government', 'NN'),\n",
       " (',', ','),\n",
       " ('under', 'IN'),\n",
       " ('the', 'DT'),\n",
       " ('administration', 'NN'),\n",
       " ('of', 'IN'),\n",
       " ('the', 'DT'),\n",
       " ('_dogmatists_', 'NNP'),\n",
       " (',', ','),\n",
       " ('was', 'VBD'),\n",
       " ('an', 'DT'),\n",
       " ('absolute', 'JJ'),\n",
       " ('_despotism_', 'NN')]"
      ]
     },
     "execution_count": 33,
     "metadata": {},
     "output_type": "execute_result"
    }
   ],
   "source": [
    "# Just tokenise text and add POS Tags\n",
    "\n",
    "sent = preprocess(text)\n",
    "sent"
   ]
  },
  {
   "cell_type": "code",
   "execution_count": 50,
   "metadata": {},
   "outputs": [
    {
     "name": "stdout",
     "output_type": "stream",
     "text": [
      "(ROOT (S (At IN) (first JJ) (, ,) (her PRP$) (government NN) (, ,) (under IN) (the DT) (administration NN) (of IN) (the DT) (_dogmatists_ NNP) (, ,) (was VBD) (an DT) (absolute JJ) (_despotism_ NN)))\n"
     ]
    },
    {
     "data": {
      "image/svg+xml": [
       "<svg baseProfile=\"full\" height=\"168px\" preserveAspectRatio=\"xMidYMid meet\" style=\"font-family: times, serif; font-weight: normal; font-style: normal; font-size: 16px;\" version=\"1.1\" viewBox=\"0,0,968.0,168.0\" width=\"968px\" xmlns=\"http://www.w3.org/2000/svg\" xmlns:ev=\"http://www.w3.org/2001/xml-events\" xmlns:xlink=\"http://www.w3.org/1999/xlink\"><defs /><svg width=\"100%\" x=\"0\" y=\"0px\"><defs /><text text-anchor=\"middle\" x=\"50%\" y=\"16px\">ROOT</text></svg><svg width=\"100%\" x=\"0%\" y=\"48px\"><defs /><svg width=\"100%\" x=\"0\" y=\"0px\"><defs /><text text-anchor=\"middle\" x=\"50%\" y=\"16px\">S</text></svg><svg width=\"3.30579%\" x=\"0%\" y=\"48px\"><defs /><svg width=\"100%\" x=\"0\" y=\"0px\"><defs /><text text-anchor=\"middle\" x=\"50%\" y=\"16px\">At</text></svg><svg width=\"100%\" x=\"0%\" y=\"48px\"><defs /><svg width=\"100%\" x=\"0\" y=\"0px\"><defs /><text text-anchor=\"middle\" x=\"50%\" y=\"16px\">IN</text></svg></svg><line stroke=\"black\" x1=\"50%\" x2=\"50%\" y1=\"19.2px\" y2=\"48px\" /></svg><line stroke=\"black\" x1=\"50%\" x2=\"1.65289%\" y1=\"19.2px\" y2=\"48px\" /><svg width=\"5.78512%\" x=\"3.30579%\" y=\"48px\"><defs /><svg width=\"100%\" x=\"0\" y=\"0px\"><defs /><text text-anchor=\"middle\" x=\"50%\" y=\"16px\">first</text></svg><svg width=\"100%\" x=\"0%\" y=\"48px\"><defs /><svg width=\"100%\" x=\"0\" y=\"0px\"><defs /><text text-anchor=\"middle\" x=\"50%\" y=\"16px\">JJ</text></svg></svg><line stroke=\"black\" x1=\"50%\" x2=\"50%\" y1=\"19.2px\" y2=\"48px\" /></svg><line stroke=\"black\" x1=\"50%\" x2=\"6.19835%\" y1=\"19.2px\" y2=\"48px\" /><svg width=\"2.47934%\" x=\"9.09091%\" y=\"48px\"><defs /><svg width=\"100%\" x=\"0\" y=\"0px\"><defs /><text text-anchor=\"middle\" x=\"50%\" y=\"16px\">,</text></svg><svg width=\"100%\" x=\"0%\" y=\"48px\"><defs /><svg width=\"100%\" x=\"0\" y=\"0px\"><defs /><text text-anchor=\"middle\" x=\"50%\" y=\"16px\">,</text></svg></svg><line stroke=\"black\" x1=\"50%\" x2=\"50%\" y1=\"19.2px\" y2=\"48px\" /></svg><line stroke=\"black\" x1=\"50%\" x2=\"10.3306%\" y1=\"19.2px\" y2=\"48px\" /><svg width=\"4.95868%\" x=\"11.5702%\" y=\"48px\"><defs /><svg width=\"100%\" x=\"0\" y=\"0px\"><defs /><text text-anchor=\"middle\" x=\"50%\" y=\"16px\">her</text></svg><svg width=\"100%\" x=\"0%\" y=\"48px\"><defs /><svg width=\"100%\" x=\"0\" y=\"0px\"><defs /><text text-anchor=\"middle\" x=\"50%\" y=\"16px\">PRP$</text></svg></svg><line stroke=\"black\" x1=\"50%\" x2=\"50%\" y1=\"19.2px\" y2=\"48px\" /></svg><line stroke=\"black\" x1=\"50%\" x2=\"14.0496%\" y1=\"19.2px\" y2=\"48px\" /><svg width=\"9.91736%\" x=\"16.5289%\" y=\"48px\"><defs /><svg width=\"100%\" x=\"0\" y=\"0px\"><defs /><text text-anchor=\"middle\" x=\"50%\" y=\"16px\">government</text></svg><svg width=\"100%\" x=\"0%\" y=\"48px\"><defs /><svg width=\"100%\" x=\"0\" y=\"0px\"><defs /><text text-anchor=\"middle\" x=\"50%\" y=\"16px\">NN</text></svg></svg><line stroke=\"black\" x1=\"50%\" x2=\"50%\" y1=\"19.2px\" y2=\"48px\" /></svg><line stroke=\"black\" x1=\"50%\" x2=\"21.4876%\" y1=\"19.2px\" y2=\"48px\" /><svg width=\"2.47934%\" x=\"26.4463%\" y=\"48px\"><defs /><svg width=\"100%\" x=\"0\" y=\"0px\"><defs /><text text-anchor=\"middle\" x=\"50%\" y=\"16px\">,</text></svg><svg width=\"100%\" x=\"0%\" y=\"48px\"><defs /><svg width=\"100%\" x=\"0\" y=\"0px\"><defs /><text text-anchor=\"middle\" x=\"50%\" y=\"16px\">,</text></svg></svg><line stroke=\"black\" x1=\"50%\" x2=\"50%\" y1=\"19.2px\" y2=\"48px\" /></svg><line stroke=\"black\" x1=\"50%\" x2=\"27.686%\" y1=\"19.2px\" y2=\"48px\" /><svg width=\"5.78512%\" x=\"28.9256%\" y=\"48px\"><defs /><svg width=\"100%\" x=\"0\" y=\"0px\"><defs /><text text-anchor=\"middle\" x=\"50%\" y=\"16px\">under</text></svg><svg width=\"100%\" x=\"0%\" y=\"48px\"><defs /><svg width=\"100%\" x=\"0\" y=\"0px\"><defs /><text text-anchor=\"middle\" x=\"50%\" y=\"16px\">IN</text></svg></svg><line stroke=\"black\" x1=\"50%\" x2=\"50%\" y1=\"19.2px\" y2=\"48px\" /></svg><line stroke=\"black\" x1=\"50%\" x2=\"31.8182%\" y1=\"19.2px\" y2=\"48px\" /><svg width=\"4.13223%\" x=\"34.7107%\" y=\"48px\"><defs /><svg width=\"100%\" x=\"0\" y=\"0px\"><defs /><text text-anchor=\"middle\" x=\"50%\" y=\"16px\">the</text></svg><svg width=\"100%\" x=\"0%\" y=\"48px\"><defs /><svg width=\"100%\" x=\"0\" y=\"0px\"><defs /><text text-anchor=\"middle\" x=\"50%\" y=\"16px\">DT</text></svg></svg><line stroke=\"black\" x1=\"50%\" x2=\"50%\" y1=\"19.2px\" y2=\"48px\" /></svg><line stroke=\"black\" x1=\"50%\" x2=\"36.7769%\" y1=\"19.2px\" y2=\"48px\" /><svg width=\"13.2231%\" x=\"38.843%\" y=\"48px\"><defs /><svg width=\"100%\" x=\"0\" y=\"0px\"><defs /><text text-anchor=\"middle\" x=\"50%\" y=\"16px\">administration</text></svg><svg width=\"100%\" x=\"0%\" y=\"48px\"><defs /><svg width=\"100%\" x=\"0\" y=\"0px\"><defs /><text text-anchor=\"middle\" x=\"50%\" y=\"16px\">NN</text></svg></svg><line stroke=\"black\" x1=\"50%\" x2=\"50%\" y1=\"19.2px\" y2=\"48px\" /></svg><line stroke=\"black\" x1=\"50%\" x2=\"45.4545%\" y1=\"19.2px\" y2=\"48px\" /><svg width=\"3.30579%\" x=\"52.0661%\" y=\"48px\"><defs /><svg width=\"100%\" x=\"0\" y=\"0px\"><defs /><text text-anchor=\"middle\" x=\"50%\" y=\"16px\">of</text></svg><svg width=\"100%\" x=\"0%\" y=\"48px\"><defs /><svg width=\"100%\" x=\"0\" y=\"0px\"><defs /><text text-anchor=\"middle\" x=\"50%\" y=\"16px\">IN</text></svg></svg><line stroke=\"black\" x1=\"50%\" x2=\"50%\" y1=\"19.2px\" y2=\"48px\" /></svg><line stroke=\"black\" x1=\"50%\" x2=\"53.719%\" y1=\"19.2px\" y2=\"48px\" /><svg width=\"4.13223%\" x=\"55.3719%\" y=\"48px\"><defs /><svg width=\"100%\" x=\"0\" y=\"0px\"><defs /><text text-anchor=\"middle\" x=\"50%\" y=\"16px\">the</text></svg><svg width=\"100%\" x=\"0%\" y=\"48px\"><defs /><svg width=\"100%\" x=\"0\" y=\"0px\"><defs /><text text-anchor=\"middle\" x=\"50%\" y=\"16px\">DT</text></svg></svg><line stroke=\"black\" x1=\"50%\" x2=\"50%\" y1=\"19.2px\" y2=\"48px\" /></svg><line stroke=\"black\" x1=\"50%\" x2=\"57.438%\" y1=\"19.2px\" y2=\"48px\" /><svg width=\"11.5702%\" x=\"59.5041%\" y=\"48px\"><defs /><svg width=\"100%\" x=\"0\" y=\"0px\"><defs /><text text-anchor=\"middle\" x=\"50%\" y=\"16px\">_dogmatists_</text></svg><svg width=\"100%\" x=\"0%\" y=\"48px\"><defs /><svg width=\"100%\" x=\"0\" y=\"0px\"><defs /><text text-anchor=\"middle\" x=\"50%\" y=\"16px\">NNP</text></svg></svg><line stroke=\"black\" x1=\"50%\" x2=\"50%\" y1=\"19.2px\" y2=\"48px\" /></svg><line stroke=\"black\" x1=\"50%\" x2=\"65.2893%\" y1=\"19.2px\" y2=\"48px\" /><svg width=\"2.47934%\" x=\"71.0744%\" y=\"48px\"><defs /><svg width=\"100%\" x=\"0\" y=\"0px\"><defs /><text text-anchor=\"middle\" x=\"50%\" y=\"16px\">,</text></svg><svg width=\"100%\" x=\"0%\" y=\"48px\"><defs /><svg width=\"100%\" x=\"0\" y=\"0px\"><defs /><text text-anchor=\"middle\" x=\"50%\" y=\"16px\">,</text></svg></svg><line stroke=\"black\" x1=\"50%\" x2=\"50%\" y1=\"19.2px\" y2=\"48px\" /></svg><line stroke=\"black\" x1=\"50%\" x2=\"72.314%\" y1=\"19.2px\" y2=\"48px\" /><svg width=\"4.13223%\" x=\"73.5537%\" y=\"48px\"><defs /><svg width=\"100%\" x=\"0\" y=\"0px\"><defs /><text text-anchor=\"middle\" x=\"50%\" y=\"16px\">was</text></svg><svg width=\"100%\" x=\"0%\" y=\"48px\"><defs /><svg width=\"100%\" x=\"0\" y=\"0px\"><defs /><text text-anchor=\"middle\" x=\"50%\" y=\"16px\">VBD</text></svg></svg><line stroke=\"black\" x1=\"50%\" x2=\"50%\" y1=\"19.2px\" y2=\"48px\" /></svg><line stroke=\"black\" x1=\"50%\" x2=\"75.6198%\" y1=\"19.2px\" y2=\"48px\" /><svg width=\"3.30579%\" x=\"77.686%\" y=\"48px\"><defs /><svg width=\"100%\" x=\"0\" y=\"0px\"><defs /><text text-anchor=\"middle\" x=\"50%\" y=\"16px\">an</text></svg><svg width=\"100%\" x=\"0%\" y=\"48px\"><defs /><svg width=\"100%\" x=\"0\" y=\"0px\"><defs /><text text-anchor=\"middle\" x=\"50%\" y=\"16px\">DT</text></svg></svg><line stroke=\"black\" x1=\"50%\" x2=\"50%\" y1=\"19.2px\" y2=\"48px\" /></svg><line stroke=\"black\" x1=\"50%\" x2=\"79.3388%\" y1=\"19.2px\" y2=\"48px\" /><svg width=\"8.26446%\" x=\"80.9917%\" y=\"48px\"><defs /><svg width=\"100%\" x=\"0\" y=\"0px\"><defs /><text text-anchor=\"middle\" x=\"50%\" y=\"16px\">absolute</text></svg><svg width=\"100%\" x=\"0%\" y=\"48px\"><defs /><svg width=\"100%\" x=\"0\" y=\"0px\"><defs /><text text-anchor=\"middle\" x=\"50%\" y=\"16px\">JJ</text></svg></svg><line stroke=\"black\" x1=\"50%\" x2=\"50%\" y1=\"19.2px\" y2=\"48px\" /></svg><line stroke=\"black\" x1=\"50%\" x2=\"85.124%\" y1=\"19.2px\" y2=\"48px\" /><svg width=\"10.7438%\" x=\"89.2562%\" y=\"48px\"><defs /><svg width=\"100%\" x=\"0\" y=\"0px\"><defs /><text text-anchor=\"middle\" x=\"50%\" y=\"16px\">_despotism_</text></svg><svg width=\"100%\" x=\"0%\" y=\"48px\"><defs /><svg width=\"100%\" x=\"0\" y=\"0px\"><defs /><text text-anchor=\"middle\" x=\"50%\" y=\"16px\">NN</text></svg></svg><line stroke=\"black\" x1=\"50%\" x2=\"50%\" y1=\"19.2px\" y2=\"48px\" /></svg><line stroke=\"black\" x1=\"50%\" x2=\"94.6281%\" y1=\"19.2px\" y2=\"48px\" /></svg><line stroke=\"black\" x1=\"50%\" x2=\"50%\" y1=\"19.2px\" y2=\"48px\" /></svg>"
      ],
      "text/plain": [
       "Tree('ROOT', [Tree('S', [Tree('At', ['IN']), Tree('first', ['JJ']), Tree(',', [',']), Tree('her', ['PRP$']), Tree('government', ['NN']), Tree(',', [',']), Tree('under', ['IN']), Tree('the', ['DT']), Tree('administration', ['NN']), Tree('of', ['IN']), Tree('the', ['DT']), Tree('_dogmatists_', ['NNP']), Tree(',', [',']), Tree('was', ['VBD']), Tree('an', ['DT']), Tree('absolute', ['JJ']), Tree('_despotism_', ['NN'])])])"
      ]
     },
     "execution_count": 50,
     "metadata": {},
     "output_type": "execute_result"
    }
   ],
   "source": [
    "my_string = \" \".join(str(element) for element in sent)\n",
    "my_string = my_string.replace(\"'\", \"\")\n",
    "my_string = my_string.replace(\", \", \" \")\n",
    "\n",
    "sentence = \"(ROOT (S \" + my_string + \"))\"\n",
    "print(sentence)\n",
    "word_tree = nltk.tree.Tree.fromstring(sentence)\n",
    "word_tree\n",
    "#word_tree\n"
   ]
  },
  {
   "cell_type": "code",
   "execution_count": 35,
   "metadata": {},
   "outputs": [],
   "source": [
    "pattern = 'NP: {<DT>?<JJ>*<NN>}'\n",
    "# used to chunck parts of sentences :) \n"
   ]
  },
  {
   "cell_type": "code",
   "execution_count": 61,
   "metadata": {},
   "outputs": [
    {
     "data": {
      "text/plain": [
       "'The old oak tree from India fell down.'"
      ]
     },
     "execution_count": 61,
     "metadata": {},
     "output_type": "execute_result"
    }
   ],
   "source": [
    "text"
   ]
  },
  {
   "cell_type": "code",
   "execution_count": 63,
   "metadata": {},
   "outputs": [
    {
     "name": "stdout",
     "output_type": "stream",
     "text": [
      "After Extracting\n",
      " (S\n",
      "  (P At/IN)\n",
      "  first/JJ\n",
      "  ,/,\n",
      "  her/PRP$\n",
      "  (NP government/NN)\n",
      "  ,/,\n",
      "  (PP (P under/IN) (NP the/DT administration/NN))\n",
      "  (P of/IN)\n",
      "  the/DT\n",
      "  _dogmatists_/NNP\n",
      "  ,/,\n",
      "  (VP (V was/VBD) (NP an/DT absolute/JJ _despotism_/NN)))\n"
     ]
    },
    {
     "name": "stderr",
     "output_type": "stream",
     "text": [
      "[nltk_data] Downloading package punkt to\n",
      "[nltk_data]     /Users/dominikpichler/nltk_data...\n",
      "[nltk_data]   Package punkt is already up-to-date!\n",
      "[nltk_data] Downloading package averaged_perceptron_tagger to\n",
      "[nltk_data]     /Users/dominikpichler/nltk_data...\n",
      "[nltk_data]   Package averaged_perceptron_tagger is already up-to-\n",
      "[nltk_data]       date!\n"
     ]
    }
   ],
   "source": [
    "import nltk \n",
    "nltk.download('punkt') \n",
    "nltk.download('averaged_perceptron_tagger') \n",
    "from nltk import pos_tag, word_tokenize, RegexpParser \n",
    "   \n",
    "# Example text \n",
    "   \n",
    "# Find all parts of speech in above sentence \n",
    "tagged = pos_tag(word_tokenize(text)) \n",
    "   \n",
    "#Extract all parts of speech from any text \n",
    "chunker = RegexpParser(\"\"\" \n",
    "                       NP: {<DT>?<JJ>*<NN>}    #To extract Noun Phrases \n",
    "                       P: {<IN>}               #To extract Prepositions \n",
    "                       V: {<V.*>}              #To extract Verbs \n",
    "                       PP: {<P> <NP>}          #To extract Prepostional Phrases \n",
    "                       VP: {<V> <NP|PP>*}      #To extarct Verb Phrases \n",
    "                       \"\"\") \n",
    "  \n",
    "# Print all parts of speech in above sentence \n",
    "output = chunker.parse(tagged) \n",
    "print(\"After Extracting\\n\", output) \n"
   ]
  },
  {
   "cell_type": "code",
   "execution_count": 71,
   "metadata": {},
   "outputs": [
    {
     "name": "stdout",
     "output_type": "stream",
     "text": [
      "['government', 'administration', '_dogmatists_', '_despotism_']\n"
     ]
    }
   ],
   "source": [
    "import nltk\n",
    "\n",
    "\n",
    "is_noun = lambda pos: pos[:2] == 'NN'\n",
    "# do the nlp stuff\n",
    "tokenized = nltk.word_tokenize(text)\n",
    "nouns = [word for (word, pos) in nltk.pos_tag(tokenized) if is_noun(pos)] \n",
    "\n",
    "print(nouns)"
   ]
  },
  {
   "cell_type": "code",
   "execution_count": 66,
   "metadata": {},
   "outputs": [
    {
     "ename": "RecursionError",
     "evalue": "maximum recursion depth exceeded in comparison",
     "output_type": "error",
     "traceback": [
      "\u001b[0;31m---------------------------------------------------------------------------\u001b[0m",
      "\u001b[0;31mRecursionError\u001b[0m                            Traceback (most recent call last)",
      "\u001b[1;32m/Users/dominikpichler/Documents/Pet_Projects/Athene/helpers/text_processor.ipynb Cell 10\u001b[0m line \u001b[0;36m3\n\u001b[1;32m     <a href='vscode-notebook-cell:/Users/dominikpichler/Documents/Pet_Projects/Athene/helpers/text_processor.ipynb#X22sZmlsZQ%3D%3D?line=32'>33</a>\u001b[0m \u001b[39m# What to do with multiple nouns? \u001b[39;00m\n\u001b[1;32m     <a href='vscode-notebook-cell:/Users/dominikpichler/Documents/Pet_Projects/Athene/helpers/text_processor.ipynb#X22sZmlsZQ%3D%3D?line=33'>34</a>\u001b[0m list_test \u001b[39m=\u001b[39m []\n\u001b[0;32m---> <a href='vscode-notebook-cell:/Users/dominikpichler/Documents/Pet_Projects/Athene/helpers/text_processor.ipynb#X22sZmlsZQ%3D%3D?line=34'>35</a>\u001b[0m traverse_tree(output,list_test)\n\u001b[1;32m     <a href='vscode-notebook-cell:/Users/dominikpichler/Documents/Pet_Projects/Athene/helpers/text_processor.ipynb#X22sZmlsZQ%3D%3D?line=35'>36</a>\u001b[0m list_test\n\u001b[1;32m     <a href='vscode-notebook-cell:/Users/dominikpichler/Documents/Pet_Projects/Athene/helpers/text_processor.ipynb#X22sZmlsZQ%3D%3D?line=36'>37</a>\u001b[0m \u001b[39m#extract_noun_relationships(s)\u001b[39;00m\n",
      "\u001b[1;32m/Users/dominikpichler/Documents/Pet_Projects/Athene/helpers/text_processor.ipynb Cell 10\u001b[0m line \u001b[0;36m1\n\u001b[1;32m     <a href='vscode-notebook-cell:/Users/dominikpichler/Documents/Pet_Projects/Athene/helpers/text_processor.ipynb#X22sZmlsZQ%3D%3D?line=13'>14</a>\u001b[0m         pointer\u001b[39m.\u001b[39mappend(subtree\u001b[39m.\u001b[39mpop()) \n\u001b[1;32m     <a href='vscode-notebook-cell:/Users/dominikpichler/Documents/Pet_Projects/Athene/helpers/text_processor.ipynb#X22sZmlsZQ%3D%3D?line=15'>16</a>\u001b[0m     \u001b[39melse\u001b[39;00m:\n\u001b[0;32m---> <a href='vscode-notebook-cell:/Users/dominikpichler/Documents/Pet_Projects/Athene/helpers/text_processor.ipynb#X22sZmlsZQ%3D%3D?line=16'>17</a>\u001b[0m         traverse_tree(subtree,pointer)\n\u001b[1;32m     <a href='vscode-notebook-cell:/Users/dominikpichler/Documents/Pet_Projects/Athene/helpers/text_processor.ipynb#X22sZmlsZQ%3D%3D?line=17'>18</a>\u001b[0m \u001b[39melse\u001b[39;00m:\n\u001b[1;32m     <a href='vscode-notebook-cell:/Users/dominikpichler/Documents/Pet_Projects/Athene/helpers/text_processor.ipynb#X22sZmlsZQ%3D%3D?line=18'>19</a>\u001b[0m     \u001b[39mcontinue\u001b[39;00m\n",
      "\u001b[1;32m/Users/dominikpichler/Documents/Pet_Projects/Athene/helpers/text_processor.ipynb Cell 10\u001b[0m line \u001b[0;36m1\n\u001b[1;32m     <a href='vscode-notebook-cell:/Users/dominikpichler/Documents/Pet_Projects/Athene/helpers/text_processor.ipynb#X22sZmlsZQ%3D%3D?line=13'>14</a>\u001b[0m         pointer\u001b[39m.\u001b[39mappend(subtree\u001b[39m.\u001b[39mpop()) \n\u001b[1;32m     <a href='vscode-notebook-cell:/Users/dominikpichler/Documents/Pet_Projects/Athene/helpers/text_processor.ipynb#X22sZmlsZQ%3D%3D?line=15'>16</a>\u001b[0m     \u001b[39melse\u001b[39;00m:\n\u001b[0;32m---> <a href='vscode-notebook-cell:/Users/dominikpichler/Documents/Pet_Projects/Athene/helpers/text_processor.ipynb#X22sZmlsZQ%3D%3D?line=16'>17</a>\u001b[0m         traverse_tree(subtree,pointer)\n\u001b[1;32m     <a href='vscode-notebook-cell:/Users/dominikpichler/Documents/Pet_Projects/Athene/helpers/text_processor.ipynb#X22sZmlsZQ%3D%3D?line=17'>18</a>\u001b[0m \u001b[39melse\u001b[39;00m:\n\u001b[1;32m     <a href='vscode-notebook-cell:/Users/dominikpichler/Documents/Pet_Projects/Athene/helpers/text_processor.ipynb#X22sZmlsZQ%3D%3D?line=18'>19</a>\u001b[0m     \u001b[39mcontinue\u001b[39;00m\n",
      "    \u001b[0;31m[... skipping similar frames: traverse_tree at line 17 (2969 times)]\u001b[0m\n",
      "\u001b[1;32m/Users/dominikpichler/Documents/Pet_Projects/Athene/helpers/text_processor.ipynb Cell 10\u001b[0m line \u001b[0;36m1\n\u001b[1;32m     <a href='vscode-notebook-cell:/Users/dominikpichler/Documents/Pet_Projects/Athene/helpers/text_processor.ipynb#X22sZmlsZQ%3D%3D?line=13'>14</a>\u001b[0m         pointer\u001b[39m.\u001b[39mappend(subtree\u001b[39m.\u001b[39mpop()) \n\u001b[1;32m     <a href='vscode-notebook-cell:/Users/dominikpichler/Documents/Pet_Projects/Athene/helpers/text_processor.ipynb#X22sZmlsZQ%3D%3D?line=15'>16</a>\u001b[0m     \u001b[39melse\u001b[39;00m:\n\u001b[0;32m---> <a href='vscode-notebook-cell:/Users/dominikpichler/Documents/Pet_Projects/Athene/helpers/text_processor.ipynb#X22sZmlsZQ%3D%3D?line=16'>17</a>\u001b[0m         traverse_tree(subtree,pointer)\n\u001b[1;32m     <a href='vscode-notebook-cell:/Users/dominikpichler/Documents/Pet_Projects/Athene/helpers/text_processor.ipynb#X22sZmlsZQ%3D%3D?line=17'>18</a>\u001b[0m \u001b[39melse\u001b[39;00m:\n\u001b[1;32m     <a href='vscode-notebook-cell:/Users/dominikpichler/Documents/Pet_Projects/Athene/helpers/text_processor.ipynb#X22sZmlsZQ%3D%3D?line=18'>19</a>\u001b[0m     \u001b[39mcontinue\u001b[39;00m\n",
      "\u001b[1;32m/Users/dominikpichler/Documents/Pet_Projects/Athene/helpers/text_processor.ipynb Cell 10\u001b[0m line \u001b[0;36m1\n\u001b[1;32m      <a href='vscode-notebook-cell:/Users/dominikpichler/Documents/Pet_Projects/Athene/helpers/text_processor.ipynb#X22sZmlsZQ%3D%3D?line=8'>9</a>\u001b[0m tree \u001b[39m=\u001b[39m word_tree\n\u001b[1;32m     <a href='vscode-notebook-cell:/Users/dominikpichler/Documents/Pet_Projects/Athene/helpers/text_processor.ipynb#X22sZmlsZQ%3D%3D?line=9'>10</a>\u001b[0m \u001b[39mfor\u001b[39;00m subtree \u001b[39min\u001b[39;00m tree:\n\u001b[0;32m---> <a href='vscode-notebook-cell:/Users/dominikpichler/Documents/Pet_Projects/Athene/helpers/text_processor.ipynb#X22sZmlsZQ%3D%3D?line=10'>11</a>\u001b[0m     \u001b[39mif\u001b[39;00m \u001b[39mtype\u001b[39;49m(subtree) \u001b[39m==\u001b[39;49m nltk\u001b[39m.\u001b[39;49mtree\u001b[39m.\u001b[39;49mTree:\n\u001b[1;32m     <a href='vscode-notebook-cell:/Users/dominikpichler/Documents/Pet_Projects/Athene/helpers/text_processor.ipynb#X22sZmlsZQ%3D%3D?line=12'>13</a>\u001b[0m         \u001b[39mif\u001b[39;00m subtree\u001b[39m.\u001b[39mlabel() \u001b[39min\u001b[39;00m list_valid_types:\n\u001b[1;32m     <a href='vscode-notebook-cell:/Users/dominikpichler/Documents/Pet_Projects/Athene/helpers/text_processor.ipynb#X22sZmlsZQ%3D%3D?line=13'>14</a>\u001b[0m             pointer\u001b[39m.\u001b[39mappend(subtree\u001b[39m.\u001b[39mpop()) \n",
      "\u001b[0;31mRecursionError\u001b[0m: maximum recursion depth exceeded in comparison"
     ]
    }
   ],
   "source": [
    "import nltk\n",
    "s = my_string#'(ROOT (S (NP (NNP Europe)) (VP (VBZ is) (PP (IN in) (NP (DT the) (JJ same) (NNS trends)))) (. .)))'\n",
    "#tree = nltk.tree.Tree.fromstring(s)\n",
    "\n",
    "list_entity_relation_match = []\n",
    "\n",
    "def traverse_tree(tree,pointer:list):\n",
    "    list_valid_types = [\"NNP\",\"NNS\"]\n",
    "    tree = word_tree\n",
    "    for subtree in tree:\n",
    "        if type(subtree) == nltk.tree.Tree:\n",
    "\n",
    "            if subtree.label() in list_valid_types:\n",
    "                pointer.append(subtree.pop()) \n",
    "                \n",
    "            else:\n",
    "                traverse_tree(subtree,pointer)\n",
    "        else:\n",
    "            continue\n",
    "\n",
    "\n",
    "\n",
    "def extract_noun_relationships(sentence: str) -> list:\n",
    "    noun_list = []\n",
    "    ER_list = []\n",
    "    tree = ''\n",
    "    #word_tree = nltk.tree.Tree.fromstring(sentence)        \n",
    "    traverse_tree(tree,noun_list)\n",
    "    ER_list.extend([noun_list, sentence])\n",
    "    return ER_list\n",
    "\n",
    "\n",
    "# What to do with multiple nouns? \n",
    "list_test = []\n",
    "traverse_tree(output,list_test)\n",
    "list_test\n",
    "#extract_noun_relationships(s)\n",
    "\n"
   ]
  },
  {
   "cell_type": "code",
   "execution_count": null,
   "metadata": {},
   "outputs": [],
   "source": [
    "from nltk.chunk import conlltags2tree, tree2conlltags\n",
    "from pprint import pprint\n",
    "iob_tagged = tree2conlltags(cs)\n",
    "pprint(iob_tagged)"
   ]
  },
  {
   "cell_type": "code",
   "execution_count": null,
   "metadata": {},
   "outputs": [],
   "source": [
    "import nltk\n",
    "\n",
    "nltk.download('punkt')\n",
    "nltk.download('averaged_perceptron_tagger')\n",
    "nltk.download('maxent_ne_chunker')\n",
    "nltk.download('words')\n"
   ]
  },
  {
   "cell_type": "code",
   "execution_count": null,
   "metadata": {},
   "outputs": [],
   "source": [
    "from nltk import pos_tag, word_tokenize\n",
    "from nltk.chunk import ne_chunk\n",
    "\n",
    "ne_tree = ne_chunk(pos_tag(word_tokenize(text)))\n",
    "print((ne_tree))"
   ]
  },
  {
   "cell_type": "code",
   "execution_count": null,
   "metadata": {},
   "outputs": [],
   "source": [
    "import pandas as pd\n",
    "type(iob_tagged)\n",
    "df = pd.DataFrame.from_records(iob_tagged)\n"
   ]
  },
  {
   "cell_type": "code",
   "execution_count": null,
   "metadata": {},
   "outputs": [],
   "source": [
    "df"
   ]
  }
 ],
 "metadata": {
  "kernelspec": {
   "display_name": "Python 3 (ipykernel)",
   "language": "python",
   "name": "python3"
  },
  "language_info": {
   "codemirror_mode": {
    "name": "ipython",
    "version": 3
   },
   "file_extension": ".py",
   "mimetype": "text/x-python",
   "name": "python",
   "nbconvert_exporter": "python",
   "pygments_lexer": "ipython3",
   "version": "3.11.7"
  }
 },
 "nbformat": 4,
 "nbformat_minor": 4
}
